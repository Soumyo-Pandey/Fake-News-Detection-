{
 "cells": [
  {
   "cell_type": "code",
   "execution_count": 1,
   "id": "949906d9",
   "metadata": {},
   "outputs": [],
   "source": [
    "import numpy as np\n",
    "import pandas as pd\n",
    "import itertools\n",
    "from sklearn.model_selection import train_test_split\n",
    "from sklearn.feature_extraction.text import TfidfVectorizer\n",
    "from sklearn.linear_model import PassiveAggressiveClassifier\n",
    "from sklearn.metrics import accuracy_score, confusion_matrix, classification_report\n",
    "from sklearn.pipeline import Pipeline\n",
    "from sklearn.naive_bayes import MultinomialNB\n",
    "import pickle"
   ]
  },
  {
   "cell_type": "code",
   "execution_count": 2,
   "id": "8af5d445",
   "metadata": {},
   "outputs": [],
   "source": [
    "df=pd.read_csv(\"news.csv\")\n",
    "x=df['text']\n",
    "y=df['label']"
   ]
  },
  {
   "cell_type": "code",
   "execution_count": 3,
   "id": "419b8153",
   "metadata": {},
   "outputs": [
    {
     "data": {
      "text/html": [
       "<div>\n",
       "<style scoped>\n",
       "    .dataframe tbody tr th:only-of-type {\n",
       "        vertical-align: middle;\n",
       "    }\n",
       "\n",
       "    .dataframe tbody tr th {\n",
       "        vertical-align: top;\n",
       "    }\n",
       "\n",
       "    .dataframe thead th {\n",
       "        text-align: right;\n",
       "    }\n",
       "</style>\n",
       "<table border=\"1\" class=\"dataframe\">\n",
       "  <thead>\n",
       "    <tr style=\"text-align: right;\">\n",
       "      <th></th>\n",
       "      <th>Unnamed: 0</th>\n",
       "      <th>title</th>\n",
       "      <th>text</th>\n",
       "      <th>label</th>\n",
       "    </tr>\n",
       "  </thead>\n",
       "  <tbody>\n",
       "    <tr>\n",
       "      <th>0</th>\n",
       "      <td>8476</td>\n",
       "      <td>You Can Smell Hillary’s Fear</td>\n",
       "      <td>Daniel Greenfield, a Shillman Journalism Fello...</td>\n",
       "      <td>FAKE</td>\n",
       "    </tr>\n",
       "    <tr>\n",
       "      <th>1</th>\n",
       "      <td>10294</td>\n",
       "      <td>Watch The Exact Moment Paul Ryan Committed Pol...</td>\n",
       "      <td>Google Pinterest Digg Linkedin Reddit Stumbleu...</td>\n",
       "      <td>FAKE</td>\n",
       "    </tr>\n",
       "    <tr>\n",
       "      <th>2</th>\n",
       "      <td>3608</td>\n",
       "      <td>Kerry to go to Paris in gesture of sympathy</td>\n",
       "      <td>U.S. Secretary of State John F. Kerry said Mon...</td>\n",
       "      <td>REAL</td>\n",
       "    </tr>\n",
       "    <tr>\n",
       "      <th>3</th>\n",
       "      <td>10142</td>\n",
       "      <td>Bernie supporters on Twitter erupt in anger ag...</td>\n",
       "      <td>— Kaydee King (@KaydeeKing) November 9, 2016 T...</td>\n",
       "      <td>FAKE</td>\n",
       "    </tr>\n",
       "    <tr>\n",
       "      <th>4</th>\n",
       "      <td>875</td>\n",
       "      <td>The Battle of New York: Why This Primary Matters</td>\n",
       "      <td>It's primary day in New York and front-runners...</td>\n",
       "      <td>REAL</td>\n",
       "    </tr>\n",
       "  </tbody>\n",
       "</table>\n",
       "</div>"
      ],
      "text/plain": [
       "   Unnamed: 0                                              title  \\\n",
       "0        8476                       You Can Smell Hillary’s Fear   \n",
       "1       10294  Watch The Exact Moment Paul Ryan Committed Pol...   \n",
       "2        3608        Kerry to go to Paris in gesture of sympathy   \n",
       "3       10142  Bernie supporters on Twitter erupt in anger ag...   \n",
       "4         875   The Battle of New York: Why This Primary Matters   \n",
       "\n",
       "                                                text label  \n",
       "0  Daniel Greenfield, a Shillman Journalism Fello...  FAKE  \n",
       "1  Google Pinterest Digg Linkedin Reddit Stumbleu...  FAKE  \n",
       "2  U.S. Secretary of State John F. Kerry said Mon...  REAL  \n",
       "3  — Kaydee King (@KaydeeKing) November 9, 2016 T...  FAKE  \n",
       "4  It's primary day in New York and front-runners...  REAL  "
      ]
     },
     "execution_count": 3,
     "metadata": {},
     "output_type": "execute_result"
    }
   ],
   "source": [
    "df.shape\n",
    "df.head()"
   ]
  },
  {
   "cell_type": "code",
   "execution_count": 4,
   "id": "04ce9470",
   "metadata": {},
   "outputs": [
    {
     "data": {
      "text/plain": [
       "(6335, 4)"
      ]
     },
     "execution_count": 4,
     "metadata": {},
     "output_type": "execute_result"
    }
   ],
   "source": [
    "df.shape"
   ]
  },
  {
   "cell_type": "code",
   "execution_count": 5,
   "id": "8ac4be2f",
   "metadata": {},
   "outputs": [
    {
     "data": {
      "text/plain": [
       "Unnamed: 0    False\n",
       "title         False\n",
       "text          False\n",
       "label         False\n",
       "dtype: bool"
      ]
     },
     "execution_count": 5,
     "metadata": {},
     "output_type": "execute_result"
    }
   ],
   "source": [
    "df.isnull().any()"
   ]
  },
  {
   "cell_type": "code",
   "execution_count": 6,
   "id": "6a0a01a6",
   "metadata": {},
   "outputs": [
    {
     "data": {
      "text/plain": [
       "0    FAKE\n",
       "1    FAKE\n",
       "2    REAL\n",
       "3    FAKE\n",
       "4    REAL\n",
       "Name: label, dtype: object"
      ]
     },
     "execution_count": 6,
     "metadata": {},
     "output_type": "execute_result"
    }
   ],
   "source": [
    "lb=df.label\n",
    "lb.head()"
   ]
  },
  {
   "cell_type": "code",
   "execution_count": 7,
   "id": "4d6b83a4",
   "metadata": {},
   "outputs": [],
   "source": [
    "traindata_x,testdata_x,traindata_y,testdata_y=train_test_split(x, y, test_size=0.2)"
   ]
  },
  {
   "cell_type": "code",
   "execution_count": 8,
   "id": "d0101b66",
   "metadata": {},
   "outputs": [],
   "source": [
    "vector_frequency=TfidfVectorizer(stop_words='english', max_df=0.7)\n",
    "\n",
    "\n",
    "tfidf_train=vector_frequency.fit_transform(traindata_x) \n",
    "tfidf_test=vector_frequency.transform(testdata_x)"
   ]
  },
  {
   "cell_type": "code",
   "execution_count": 9,
   "id": "d541a029",
   "metadata": {},
   "outputs": [],
   "source": [
    "train_frequency=vector_frequency.fit_transform(traindata_x)"
   ]
  },
  {
   "cell_type": "code",
   "execution_count": 10,
   "id": "affb5c1f",
   "metadata": {},
   "outputs": [
    {
     "name": "stdout",
     "output_type": "stream",
     "text": [
      "6086    “What difference, at this point, does it make?...\n",
      "1450    The Richest Man.., Considered, Invested In One...\n",
      "853     Of course, Republicans and conservatives find ...\n",
      "4131    And they are looking for someone who could app...\n",
      "535     We do not like trampolining, say hedgehogs 10-...\n",
      "                              ...                        \n",
      "1003    Donald Trump and Paul Ryan might not have buil...\n",
      "1998    Rep. Mark Meadows (R-N.C.) has been able to co...\n",
      "1535    Email \\nI was in London last weekend to view a...\n",
      "5892    Tensions between the Republican Party and its ...\n",
      "5790    In this News Brief, Joe Joseph is joined by go...\n",
      "Name: text, Length: 1267, dtype: object\n",
      "#################################***********************####################*************************\n",
      "  (0, 21202)\t0.08020017282924655\n",
      "  (0, 9458)\t0.044231888762311704\n",
      "  (0, 42435)\t0.0393100106565535\n",
      "  (0, 6755)\t0.06903418946393479\n",
      "  (0, 28339)\t0.06592105015551511\n",
      "  (0, 50922)\t0.06451886741472987\n",
      "  (0, 12817)\t0.0761198478834152\n",
      "  (0, 58796)\t0.04345968612724018\n",
      "  (0, 47333)\t0.027829150150131075\n",
      "  (0, 29585)\t0.07264145873689917\n",
      "  (0, 13524)\t0.09033414328492916\n",
      "  (0, 32713)\t0.05045305690498098\n",
      "  (0, 16889)\t0.048981701458244695\n",
      "  (0, 10222)\t0.06293310813097559\n",
      "  (0, 9825)\t0.0488688817436213\n",
      "  (0, 35821)\t0.051808005409773435\n",
      "  (0, 21596)\t0.059082073619951984\n",
      "  (0, 37059)\t0.04401414532710555\n",
      "  (0, 17027)\t0.14972228567721635\n",
      "  (0, 22399)\t0.08426554106299697\n",
      "  (0, 8877)\t0.09969809026433442\n",
      "  (0, 11087)\t0.06559504051453949\n",
      "  (0, 57654)\t0.07325899841976652\n",
      "  (0, 60390)\t0.09841883895932163\n",
      "  (0, 37297)\t0.06071823570794801\n",
      "  :\t:\n",
      "  (5067, 21596)\t0.01221146848245199\n",
      "  (5067, 37059)\t0.009097130745636272\n",
      "  (5067, 37297)\t0.006274820569325006\n",
      "  (5067, 25097)\t0.010846676914715204\n",
      "  (5067, 5313)\t0.016392138811495177\n",
      "  (5067, 59123)\t0.011408282922737571\n",
      "  (5067, 58883)\t0.007735546546034422\n",
      "  (5067, 25444)\t0.009773886683723134\n",
      "  (5067, 23704)\t0.025292172303697624\n",
      "  (5067, 20605)\t0.022921322215554187\n",
      "  (5067, 59848)\t0.010605004489398528\n",
      "  (5067, 24861)\t0.021470701144950047\n",
      "  (5067, 25247)\t0.029108942249184633\n",
      "  (5067, 2596)\t0.010946810469261827\n",
      "  (5067, 5856)\t0.02426338108694807\n",
      "  (5067, 41710)\t0.027096161814995915\n",
      "  (5067, 40511)\t0.036815287206115994\n",
      "  (5067, 11310)\t0.007476760909347673\n",
      "  (5067, 56194)\t0.014629441282303469\n",
      "  (5067, 9395)\t0.00770015445429953\n",
      "  (5067, 48573)\t0.01145763693981558\n",
      "  (5067, 54820)\t0.04064741084282668\n",
      "  (5067, 4277)\t0.01663969896009399\n",
      "  (5067, 54327)\t0.016375735266262844\n",
      "  (5067, 16982)\t0.00796169361663711\n",
      "#################################***********************####################**************************\n"
     ]
    }
   ],
   "source": [
    "print(testdata_x)\n",
    "print(\"#################################***********************####################*************************\")\n",
    "print(train_frequency)\n",
    "print(\"#################################***********************####################**************************\")"
   ]
  },
  {
   "cell_type": "code",
   "execution_count": 11,
   "id": "05ee9f3a",
   "metadata": {},
   "outputs": [
    {
     "name": "stdout",
     "output_type": "stream",
     "text": [
      "  (0, 60031)\t0.04438247217850116\n",
      "  (0, 59987)\t0.11150163398383134\n",
      "  (0, 59837)\t0.0350011574990807\n",
      "  (0, 59833)\t0.09308667395325672\n",
      "  (0, 59675)\t0.07786445363117558\n",
      "  (0, 58883)\t0.02964528110349921\n",
      "  (0, 58821)\t0.04901749546501128\n",
      "  (0, 57524)\t0.09761776191323937\n",
      "  (0, 57218)\t0.12991762953786087\n",
      "  (0, 55969)\t0.06236797420924839\n",
      "  (0, 55957)\t0.047537686612494225\n",
      "  (0, 55802)\t0.04133557229807167\n",
      "  (0, 54898)\t0.039533280982518286\n",
      "  (0, 54820)\t0.031154978213730904\n",
      "  (0, 54614)\t0.024691023937362045\n",
      "  (0, 54557)\t0.11972815577746432\n",
      "  (0, 54044)\t0.11454797461251848\n",
      "  (0, 54042)\t0.0526308531631707\n",
      "  (0, 51578)\t0.10666497141695236\n",
      "  (0, 51054)\t0.07703604837409123\n",
      "  (0, 51015)\t0.05000820649380884\n",
      "  (0, 50922)\t0.05110500881828277\n",
      "  (0, 48658)\t0.0697295228083746\n",
      "  (0, 48625)\t0.04848822738163661\n",
      "  (0, 48406)\t0.07878521430103338\n",
      "  :\t:\n",
      "  (1266, 15081)\t0.08993494169398755\n",
      "  (1266, 14496)\t0.05520893005251998\n",
      "  (1266, 14212)\t0.15147209761865912\n",
      "  (1266, 13106)\t0.0940249674373157\n",
      "  (1266, 12866)\t0.10960427286930424\n",
      "  (1266, 12826)\t0.09135402722617635\n",
      "  (1266, 12802)\t0.07940330040483227\n",
      "  (1266, 12708)\t0.09367263528445774\n",
      "  (1266, 12452)\t0.0987681598825017\n",
      "  (1266, 11834)\t0.1036729280913495\n",
      "  (1266, 11799)\t0.13272812148566465\n",
      "  (1266, 11322)\t0.27828007351584483\n",
      "  (1266, 11257)\t0.08472322803865327\n",
      "  (1266, 10704)\t0.0690885722217392\n",
      "  (1266, 10693)\t0.08381537182008136\n",
      "  (1266, 10539)\t0.0824510957090462\n",
      "  (1266, 9988)\t0.09145901729252337\n",
      "  (1266, 8514)\t0.10244768148486341\n",
      "  (1266, 8393)\t0.16929222301995775\n",
      "  (1266, 6751)\t0.05600047540402481\n",
      "  (1266, 5473)\t0.07657004142658085\n",
      "  (1266, 5365)\t0.12838815400760176\n",
      "  (1266, 3854)\t0.12673277088790538\n",
      "  (1266, 3079)\t0.07268683301174296\n",
      "  (1266, 2263)\t0.14237119547856855\n"
     ]
    }
   ],
   "source": [
    "test_frequency=vector_frequency.transform(testdata_x)\n",
    "print(test_frequency)"
   ]
  },
  {
   "cell_type": "code",
   "execution_count": 12,
   "id": "0ca34549",
   "metadata": {},
   "outputs": [
    {
     "name": "stdout",
     "output_type": "stream",
     "text": [
      "3595    REAL\n",
      "3500    REAL\n",
      "1203    REAL\n",
      "373     REAL\n",
      "3816    REAL\n",
      "        ... \n",
      "1194    REAL\n",
      "6216    REAL\n",
      "5809    FAKE\n",
      "4426    REAL\n",
      "3078    FAKE\n",
      "Name: label, Length: 5068, dtype: object\n",
      "Accuracy: 94.63%\n"
     ]
    }
   ],
   "source": [
    "pa=PassiveAggressiveClassifier(max_iter=50)\n",
    "pa.fit(train_frequency,traindata_y)\n",
    "\n",
    "y_pred=pa.predict(tfidf_test)\n",
    "score=accuracy_score(testdata_y,y_pred)\n",
    "print(traindata_y)\n",
    "print(f'Accuracy: {round(score*100,2)}%')"
   ]
  },
  {
   "cell_type": "code",
   "execution_count": 13,
   "id": "6c062bd3",
   "metadata": {},
   "outputs": [],
   "source": [
    "pipeline = Pipeline([('tfidf', TfidfVectorizer(stop_words = 'english')),\n",
    "                    ('nbmodel', MultinomialNB())])"
   ]
  },
  {
   "cell_type": "code",
   "execution_count": 14,
   "id": "9682ec45",
   "metadata": {},
   "outputs": [
    {
     "data": {
      "text/plain": [
       "Pipeline(steps=[('tfidf', TfidfVectorizer(stop_words='english')),\n",
       "                ('nbmodel', MultinomialNB())])"
      ]
     },
     "execution_count": 14,
     "metadata": {},
     "output_type": "execute_result"
    }
   ],
   "source": [
    "pipeline.fit(traindata_x,traindata_y)"
   ]
  },
  {
   "cell_type": "code",
   "execution_count": 15,
   "id": "21b0ce5c",
   "metadata": {},
   "outputs": [
    {
     "name": "stdout",
     "output_type": "stream",
     "text": [
      "Accuracy 0.8310970797158642\n"
     ]
    }
   ],
   "source": [
    "score = pipeline.score(testdata_x,testdata_y)\n",
    "print('Accuracy', score)"
   ]
  },
  {
   "cell_type": "code",
   "execution_count": 16,
   "id": "832366f6",
   "metadata": {},
   "outputs": [],
   "source": [
    "pred = pipeline.predict(testdata_x)"
   ]
  },
  {
   "cell_type": "code",
   "execution_count": 17,
   "id": "a177df34",
   "metadata": {},
   "outputs": [
    {
     "name": "stdout",
     "output_type": "stream",
     "text": [
      "              precision    recall  f1-score   support\n",
      "\n",
      "        FAKE       0.98      0.69      0.81       647\n",
      "        REAL       0.75      0.98      0.85       620\n",
      "\n",
      "    accuracy                           0.83      1267\n",
      "   macro avg       0.86      0.83      0.83      1267\n",
      "weighted avg       0.87      0.83      0.83      1267\n",
      "\n"
     ]
    }
   ],
   "source": [
    "print(classification_report(testdata_y, pred))"
   ]
  },
  {
   "cell_type": "code",
   "execution_count": 18,
   "id": "f2ecff09",
   "metadata": {},
   "outputs": [
    {
     "data": {
      "text/plain": [
       "array([[444, 203],\n",
       "       [ 11, 609]], dtype=int64)"
      ]
     },
     "execution_count": 18,
     "metadata": {},
     "output_type": "execute_result"
    }
   ],
   "source": [
    "confusion_matrix(testdata_y,pred)"
   ]
  },
  {
   "cell_type": "code",
   "execution_count": 20,
   "id": "57401c6c",
   "metadata": {},
   "outputs": [],
   "source": [
    "with open('model.pk1', 'wb') as handle:\n",
    "    pickle.dump(pipeline, handle, protocol=pickle.HIGHEST_PROTOCOL)"
   ]
  },
  {
   "cell_type": "code",
   "execution_count": null,
   "id": "7be94c27",
   "metadata": {},
   "outputs": [],
   "source": []
  }
 ],
 "metadata": {
  "kernelspec": {
   "display_name": "Python 3 (ipykernel)",
   "language": "python",
   "name": "python3"
  },
  "language_info": {
   "codemirror_mode": {
    "name": "ipython",
    "version": 3
   },
   "file_extension": ".py",
   "mimetype": "text/x-python",
   "name": "python",
   "nbconvert_exporter": "python",
   "pygments_lexer": "ipython3",
   "version": "3.9.7"
  }
 },
 "nbformat": 4,
 "nbformat_minor": 5
}
